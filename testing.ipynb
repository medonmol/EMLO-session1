{
 "cells": [
  {
   "cell_type": "code",
   "execution_count": 1,
   "source": [
    "from torch.utils.data import DataLoader, Dataset\r\n",
    "import torch.nn as nn\r\n",
    "from torchsummary import summary\r\n",
    "import torch\r\n",
    "import torch.nn.functional as F\r\n",
    "import numpy as np\r\n",
    "import importlib \r\n",
    "import config\r\n",
    "importlib.reload(config)"
   ],
   "outputs": [
    {
     "output_type": "execute_result",
     "data": {
      "text/plain": [
       "<module 'config' from 'e:\\\\TSAI\\\\EMLO\\\\EMLO-session1\\\\config.py'>"
      ]
     },
     "metadata": {},
     "execution_count": 1
    }
   ],
   "metadata": {}
  },
  {
   "cell_type": "code",
   "execution_count": 2,
   "source": [
    "class DatasetFromArray(Dataset):\r\n",
    "    def __init__(self, featurepath, labelpath):\r\n",
    "        self.data = np.load(open(featurepath, 'rb'))\r\n",
    "        self.labels = np.load(open(labelpath, 'rb'))\r\n",
    "    \r\n",
    "    def __len__(self):\r\n",
    "        return len(self.data)\r\n",
    "    \r\n",
    "    def __getitem__(self, index):\r\n",
    "        return {'data': torch.tensor(self.data[index], dtype=torch.float32), 'target': torch.tensor(self.labels[index],dtype=torch.long)}\r\n",
    "    "
   ],
   "outputs": [],
   "metadata": {}
  },
  {
   "cell_type": "code",
   "execution_count": 3,
   "source": [
    "train_ds = DatasetFromArray(config.TRAIN_FEATURES, config.TRAIN_LABELS)\r\n",
    "valid_ds = DatasetFromArray(config.VALID_FEATURES, config.VALID_LABELS)"
   ],
   "outputs": [],
   "metadata": {}
  },
  {
   "cell_type": "code",
   "execution_count": 4,
   "source": [
    "train_loader = DataLoader(train_ds, batch_size=16, shuffle=True, pin_memory=True)\r\n",
    "valid_loader = DataLoader(valid_ds, batch_size=16, pin_memory=True)"
   ],
   "outputs": [],
   "metadata": {}
  },
  {
   "cell_type": "code",
   "execution_count": 5,
   "source": [
    "class Model(nn.Module):\r\n",
    "    def __init__(self):\r\n",
    "        super().__init__()\r\n",
    "        self.model = nn.Sequential(\r\n",
    "            nn.Conv2d(512, 64, kernel_size=3, bias=False),\r\n",
    "            nn.ReLU(),\r\n",
    "            nn.BatchNorm2d(64),\r\n",
    "            nn.Dropout(0.5),\r\n",
    "            \r\n",
    "            nn.Conv2d(64,2, kernel_size=3, bias=False),\r\n",
    "            nn.AvgPool2d(3)\r\n",
    "\r\n",
    "        )\r\n",
    "    \r\n",
    "    def forward(self, x):\r\n",
    "        x = self.model(x)\r\n",
    "        x = x.view(-1, 2)\r\n",
    "        return F.log_softmax(x, dim=1)"
   ],
   "outputs": [],
   "metadata": {}
  },
  {
   "cell_type": "code",
   "execution_count": 6,
   "source": [
    "\r\n",
    "model = Model().to('cuda')\r\n",
    "summary(model, input_size=(512,7,7))"
   ],
   "outputs": [
    {
     "output_type": "stream",
     "name": "stdout",
     "text": [
      "----------------------------------------------------------------\n",
      "        Layer (type)               Output Shape         Param #\n",
      "================================================================\n",
      "            Conv2d-1             [-1, 64, 5, 5]         294,912\n",
      "              ReLU-2             [-1, 64, 5, 5]               0\n",
      "       BatchNorm2d-3             [-1, 64, 5, 5]             128\n",
      "           Dropout-4             [-1, 64, 5, 5]               0\n",
      "            Conv2d-5              [-1, 2, 3, 3]           1,152\n",
      "         AvgPool2d-6              [-1, 2, 1, 1]               0\n",
      "================================================================\n",
      "Total params: 296,192\n",
      "Trainable params: 296,192\n",
      "Non-trainable params: 0\n",
      "----------------------------------------------------------------\n",
      "Input size (MB): 0.10\n",
      "Forward/backward pass size (MB): 0.05\n",
      "Params size (MB): 1.13\n",
      "Estimated Total Size (MB): 1.27\n",
      "----------------------------------------------------------------\n"
     ]
    }
   ],
   "metadata": {}
  },
  {
   "cell_type": "code",
   "execution_count": 7,
   "source": [
    "del model"
   ],
   "outputs": [],
   "metadata": {}
  },
  {
   "cell_type": "code",
   "execution_count": 8,
   "source": [
    "from tqdm import tqdm\r\n",
    "from functools import partial\r\n",
    "import torch.nn.functional as F\r\n",
    "tqdm = partial(tqdm, leave=True, position=0)\r\n",
    "model = Model()\r\n",
    "model.to('cuda')\r\n",
    "optimizer = torch.optim.Adam(model.parameters(), lr=0.001)\r\n",
    "# criterion = nn.CrossEntropyLoss().to('cuda')\r\n",
    "\r\n",
    "\r\n",
    "\r\n",
    "\r\n",
    "\r\n",
    "def train(model, train_loader, optimizer):\r\n",
    "    model.train()\r\n",
    "    train_loss = 0\r\n",
    "    correct = 0\r\n",
    "    \r\n",
    "    for _, data in tqdm(enumerate(train_loader), total=len(train_loader)):\r\n",
    "        data, target = data['data'].to('cuda'), data['target'].to('cuda')\r\n",
    "\r\n",
    "        optimizer.zero_grad()\r\n",
    "        output = model(data)\r\n",
    "        loss = F.nll_loss(output, target)\r\n",
    "        train_loss += loss.detach()\r\n",
    "        loss.backward()\r\n",
    "        optimizer.step()\r\n",
    "\r\n",
    "        pred = output.argmax(dim=1, keepdim=True)\r\n",
    "        # print(f'Output : {output[0:5]}')\r\n",
    "        # print(f'Print: {pred[0:5]}')\r\n",
    "        # print(f'Target: {target[0:5]}')\r\n",
    "        correct += pred.eq(target.view_as(pred)).sum().item()\r\n",
    "    \r\n",
    "    # return train_loss, correct\r\n",
    "    print(\r\n",
    "            f\"Training loss = {train_loss * 1.0 / len(train_loader.dataset)},Training Accuracy : {100.0 * correct / len(train_loader.dataset)}\"\r\n",
    "        )\r\n",
    "\r\n",
    "def evaluate(model, valid_loader):\r\n",
    "    model.eval()\r\n",
    "    valid_loss = 0\r\n",
    "    correct = 0\r\n",
    "    with torch.no_grad():\r\n",
    "        for _, data in tqdm(enumerate(valid_loader), total=len(valid_loader)):\r\n",
    "            data, target = data['data'].to('cuda'), data['target'].to('cuda')\r\n",
    "            output = model(data)\r\n",
    "            valid_loss +=F.nll_loss(output, target, reduction='sum').item()\r\n",
    "\r\n",
    "            pred = output.argmax(dim=1, keepdim=True)\r\n",
    "            correct += pred.eq(target.view_as(pred)).sum().item()\r\n",
    "    print(\r\n",
    "            f\"Valid loss = {valid_loss * 1.0 / len(valid_loader.dataset)}, Valid Accuracy : {100.0 * correct / len(valid_loader.dataset)}\"\r\n",
    "        )\r\n",
    "\r\n",
    "for i in range(10):\r\n",
    "    print(f'EPOCH {i+1}')\r\n",
    "    train(model, train_loader, optimizer)\r\n",
    "    evaluate(model, valid_loader)\r\n"
   ],
   "outputs": [
    {
     "output_type": "stream",
     "name": "stdout",
     "text": [
      "EPOCH 1\n"
     ]
    },
    {
     "output_type": "stream",
     "name": "stderr",
     "text": [
      "100%|██████████| 63/63 [00:02<00:00, 28.06it/s]\n"
     ]
    },
    {
     "output_type": "stream",
     "name": "stdout",
     "text": [
      "Training loss = 0.0191042497754097,Training Accuracy : 86.4\n"
     ]
    },
    {
     "output_type": "stream",
     "name": "stderr",
     "text": [
      "100%|██████████| 50/50 [00:00<00:00, 147.93it/s]\n"
     ]
    },
    {
     "output_type": "stream",
     "name": "stdout",
     "text": [
      "Valid loss = 0.261130005903542, Valid Accuracy : 88.25\n",
      "EPOCH 2\n"
     ]
    },
    {
     "output_type": "stream",
     "name": "stderr",
     "text": [
      "100%|██████████| 63/63 [00:00<00:00, 189.19it/s]\n"
     ]
    },
    {
     "output_type": "stream",
     "name": "stdout",
     "text": [
      "Training loss = 0.011719467118382454,Training Accuracy : 92.2\n"
     ]
    },
    {
     "output_type": "stream",
     "name": "stderr",
     "text": [
      "100%|██████████| 50/50 [00:00<00:00, 267.38it/s]\n"
     ]
    },
    {
     "output_type": "stream",
     "name": "stdout",
     "text": [
      "Valid loss = 0.2208471419662237, Valid Accuracy : 90.875\n",
      "EPOCH 3\n"
     ]
    },
    {
     "output_type": "stream",
     "name": "stderr",
     "text": [
      "100%|██████████| 63/63 [00:00<00:00, 207.10it/s]\n"
     ]
    },
    {
     "output_type": "stream",
     "name": "stdout",
     "text": [
      "Training loss = 0.006085764616727829,Training Accuracy : 96.3\n"
     ]
    },
    {
     "output_type": "stream",
     "name": "stderr",
     "text": [
      "100%|██████████| 50/50 [00:00<00:00, 352.14it/s]\n"
     ]
    },
    {
     "output_type": "stream",
     "name": "stdout",
     "text": [
      "Valid loss = 0.2541282816976309, Valid Accuracy : 89.875\n",
      "EPOCH 4\n"
     ]
    },
    {
     "output_type": "stream",
     "name": "stderr",
     "text": [
      "100%|██████████| 63/63 [00:00<00:00, 225.64it/s]\n"
     ]
    },
    {
     "output_type": "stream",
     "name": "stdout",
     "text": [
      "Training loss = 0.004187299869954586,Training Accuracy : 97.5\n"
     ]
    },
    {
     "output_type": "stream",
     "name": "stderr",
     "text": [
      "100%|██████████| 50/50 [00:00<00:00, 237.21it/s]\n"
     ]
    },
    {
     "output_type": "stream",
     "name": "stdout",
     "text": [
      "Valid loss = 0.30358429497107864, Valid Accuracy : 88.75\n",
      "EPOCH 5\n"
     ]
    },
    {
     "output_type": "stream",
     "name": "stderr",
     "text": [
      "100%|██████████| 63/63 [00:00<00:00, 167.55it/s]\n"
     ]
    },
    {
     "output_type": "stream",
     "name": "stdout",
     "text": [
      "Training loss = 0.0032467388082295656,Training Accuracy : 98.1\n"
     ]
    },
    {
     "output_type": "stream",
     "name": "stderr",
     "text": [
      "100%|██████████| 50/50 [00:00<00:00, 212.77it/s]\n"
     ]
    },
    {
     "output_type": "stream",
     "name": "stdout",
     "text": [
      "Valid loss = 0.2743800459709018, Valid Accuracy : 90.125\n",
      "EPOCH 6\n"
     ]
    },
    {
     "output_type": "stream",
     "name": "stderr",
     "text": [
      "100%|██████████| 63/63 [00:00<00:00, 163.64it/s]\n"
     ]
    },
    {
     "output_type": "stream",
     "name": "stdout",
     "text": [
      "Training loss = 0.0024090069346129894,Training Accuracy : 99.2\n"
     ]
    },
    {
     "output_type": "stream",
     "name": "stderr",
     "text": [
      "100%|██████████| 50/50 [00:00<00:00, 258.98it/s]\n"
     ]
    },
    {
     "output_type": "stream",
     "name": "stdout",
     "text": [
      "Valid loss = 0.37918191553791986, Valid Accuracy : 89.125\n",
      "EPOCH 7\n"
     ]
    },
    {
     "output_type": "stream",
     "name": "stderr",
     "text": [
      "100%|██████████| 63/63 [00:00<00:00, 201.28it/s]\n"
     ]
    },
    {
     "output_type": "stream",
     "name": "stdout",
     "text": [
      "Training loss = 0.0015632346039637923,Training Accuracy : 99.4\n"
     ]
    },
    {
     "output_type": "stream",
     "name": "stderr",
     "text": [
      "100%|██████████| 50/50 [00:00<00:00, 253.81it/s]\n"
     ]
    },
    {
     "output_type": "stream",
     "name": "stdout",
     "text": [
      "Valid loss = 0.324785522739403, Valid Accuracy : 90.875\n",
      "EPOCH 8\n"
     ]
    },
    {
     "output_type": "stream",
     "name": "stderr",
     "text": [
      "100%|██████████| 63/63 [00:00<00:00, 169.86it/s]\n"
     ]
    },
    {
     "output_type": "stream",
     "name": "stdout",
     "text": [
      "Training loss = 0.001864642254076898,Training Accuracy : 99.1\n"
     ]
    },
    {
     "output_type": "stream",
     "name": "stderr",
     "text": [
      "100%|██████████| 50/50 [00:00<00:00, 213.68it/s]\n"
     ]
    },
    {
     "output_type": "stream",
     "name": "stdout",
     "text": [
      "Valid loss = 0.3091298733884469, Valid Accuracy : 89.75\n",
      "EPOCH 9\n"
     ]
    },
    {
     "output_type": "stream",
     "name": "stderr",
     "text": [
      "100%|██████████| 63/63 [00:00<00:00, 208.61it/s]\n"
     ]
    },
    {
     "output_type": "stream",
     "name": "stdout",
     "text": [
      "Training loss = 0.0008680456085130572,Training Accuracy : 99.5\n"
     ]
    },
    {
     "output_type": "stream",
     "name": "stderr",
     "text": [
      "100%|██████████| 50/50 [00:00<00:00, 271.74it/s]\n"
     ]
    },
    {
     "output_type": "stream",
     "name": "stdout",
     "text": [
      "Valid loss = 0.3656344138015993, Valid Accuracy : 89.25\n",
      "EPOCH 10\n"
     ]
    },
    {
     "output_type": "stream",
     "name": "stderr",
     "text": [
      "100%|██████████| 63/63 [00:00<00:00, 212.84it/s]\n"
     ]
    },
    {
     "output_type": "stream",
     "name": "stdout",
     "text": [
      "Training loss = 0.0005314643494784832,Training Accuracy : 99.7\n"
     ]
    },
    {
     "output_type": "stream",
     "name": "stderr",
     "text": [
      "100%|██████████| 50/50 [00:00<00:00, 284.62it/s]"
     ]
    },
    {
     "output_type": "stream",
     "name": "stdout",
     "text": [
      "Valid loss = 0.37610316054939175, Valid Accuracy : 90.25\n"
     ]
    },
    {
     "output_type": "stream",
     "name": "stderr",
     "text": [
      "\n"
     ]
    }
   ],
   "metadata": {}
  },
  {
   "cell_type": "code",
   "execution_count": null,
   "source": [],
   "outputs": [],
   "metadata": {}
  }
 ],
 "metadata": {
  "orig_nbformat": 4,
  "language_info": {
   "name": "python",
   "version": "3.9.7",
   "mimetype": "text/x-python",
   "codemirror_mode": {
    "name": "ipython",
    "version": 3
   },
   "pygments_lexer": "ipython3",
   "nbconvert_exporter": "python",
   "file_extension": ".py"
  },
  "kernelspec": {
   "name": "python3",
   "display_name": "Python 3.9.7 64-bit ('base': conda)"
  },
  "interpreter": {
   "hash": "9131c53ea609b1c83a4930f9ef9b895156b0f40bc80fb8f9ee0bf5a21c6927cd"
  }
 },
 "nbformat": 4,
 "nbformat_minor": 2
}