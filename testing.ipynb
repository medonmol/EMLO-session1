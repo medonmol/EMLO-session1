{
 "cells": [
  {
   "cell_type": "code",
   "execution_count": 3,
   "source": [
    "from torch.utils.data import DataLoader, Dataset\r\n",
    "import torch.nn as nn\r\n",
    "from torchsummary import summary\r\n",
    "from torchvision import transforms, datasets, models\r\n",
    "import torch\r\n",
    "import numpy as np"
   ],
   "outputs": [],
   "metadata": {}
  },
  {
   "cell_type": "code",
   "execution_count": 39,
   "source": [
    "import config\r\n",
    "class DatasetFromArray(Dataset):\r\n",
    "    def __init__(self, featurepath, labelpath):\r\n",
    "        self.data = np.load(open(featurepath, 'rb'))\r\n",
    "        self.labels = np.load(open(labelpath, 'rb'))\r\n",
    "    \r\n",
    "    def __len__(self):\r\n",
    "        return len(self.data)\r\n",
    "    \r\n",
    "    def __getitem__(self, index):\r\n",
    "        return {'data': torch.tensor(self.data[index], dtype=torch.float32), 'target': torch.tensor(self.labels[index],dtype=torch.long)}\r\n",
    "    "
   ],
   "outputs": [],
   "metadata": {}
  },
  {
   "cell_type": "code",
   "execution_count": 40,
   "source": [
    "train_ds = DatasetFromArray(config.TRAIN_FEATURES, config.TRAIN_LABELS)\r\n",
    "valid_ds = DatasetFromArray(config.VALID_FEATURES, config.VALID_LABELS)"
   ],
   "outputs": [],
   "metadata": {}
  },
  {
   "cell_type": "code",
   "execution_count": 41,
   "source": [
    "train_loader = DataLoader(train_ds, batch_size=16, shuffle=True, pin_memory=True)\r\n",
    "valid_loader = DataLoader(valid_ds, batch_size=16, pin_memory=True)"
   ],
   "outputs": [],
   "metadata": {}
  },
  {
   "cell_type": "code",
   "execution_count": 42,
   "source": [
    "class Model(nn.Module):\r\n",
    "    def __init__(self):\r\n",
    "        super().__init__()\r\n",
    "        self.model = nn.Sequential(\r\n",
    "            nn.Conv2d(512, 64, kernel_size=3, bias=False),\r\n",
    "            nn.ReLU(),\r\n",
    "            nn.BatchNorm2d(64),\r\n",
    "            nn.Dropout(0.3),\r\n",
    "            nn.Conv2d(64,2, kernel_size=3, bias=False),\r\n",
    "            nn.AvgPool2d(3)\r\n",
    "\r\n",
    "        )\r\n",
    "    \r\n",
    "    def forward(self, x):\r\n",
    "        x = self.model(x)\r\n",
    "        x = x.view(-1, 2)\r\n",
    "        return F.log_softmax(x, dim=-1)"
   ],
   "outputs": [],
   "metadata": {}
  },
  {
   "cell_type": "code",
   "execution_count": 43,
   "source": [
    "\r\n",
    "model = Model().to('cuda')\r\n",
    "summary(model, input_size=(512,7,7))"
   ],
   "outputs": [
    {
     "output_type": "stream",
     "name": "stdout",
     "text": [
      "----------------------------------------------------------------\n",
      "        Layer (type)               Output Shape         Param #\n",
      "================================================================\n",
      "            Conv2d-1             [-1, 64, 5, 5]         294,912\n",
      "              ReLU-2             [-1, 64, 5, 5]               0\n",
      "       BatchNorm2d-3             [-1, 64, 5, 5]             128\n",
      "           Dropout-4             [-1, 64, 5, 5]               0\n",
      "            Conv2d-5              [-1, 2, 3, 3]           1,152\n",
      "         AvgPool2d-6              [-1, 2, 1, 1]               0\n",
      "================================================================\n",
      "Total params: 296,192\n",
      "Trainable params: 296,192\n",
      "Non-trainable params: 0\n",
      "----------------------------------------------------------------\n",
      "Input size (MB): 0.10\n",
      "Forward/backward pass size (MB): 0.05\n",
      "Params size (MB): 1.13\n",
      "Estimated Total Size (MB): 1.27\n",
      "----------------------------------------------------------------\n"
     ]
    }
   ],
   "metadata": {}
  },
  {
   "cell_type": "code",
   "execution_count": 44,
   "source": [
    "from tqdm import tqdm\r\n",
    "from functools import partial\r\n",
    "import torch.nn.functional as F\r\n",
    "optimizer = torch.optim.SGD(model.parameters(), lr=0.001)\r\n",
    "# criterion = nn.CrossEntropyLoss().to('cuda')\r\n",
    "\r\n",
    "\r\n",
    "tqdm = partial(tqdm, leave=True, position=0)\r\n",
    "model = Model()\r\n",
    "model.to('cuda')\r\n",
    "\r\n",
    "\r\n",
    "def train(model, train_loader, optimizer):\r\n",
    "    model.train()\r\n",
    "    train_loss = 0\r\n",
    "    correct = 0\r\n",
    "    \r\n",
    "    for _, data in tqdm(enumerate(train_loader), total=len(train_loader)):\r\n",
    "        data, target = data['data'].to('cuda'), data['target'].to('cuda')\r\n",
    "\r\n",
    "        optimizer.zero_grad()\r\n",
    "        output = model(data)\r\n",
    "        loss = F.nll_loss(output, target)\r\n",
    "        train_loss += loss.detach()\r\n",
    "        loss.backward()\r\n",
    "        optimizer.step()\r\n",
    "\r\n",
    "        pred = output.argmax(dim=1, keepdim=True)\r\n",
    "        correct += pred.eq(target.view_as(pred)).sum().item()\r\n",
    "    \r\n",
    "    # return train_loss, correct\r\n",
    "    print(\r\n",
    "            f\"Training loss = {train_loss * 1.0 / len(train_loader.dataset)}, Correctly Classified : {correct} Training Accuracy : {100.0 * correct / len(train_loader.dataset)}\"\r\n",
    "        )\r\n",
    "\r\n",
    "def evaluate(model, valid_loader):\r\n",
    "    model.eval()\r\n",
    "    valid_loss = 0\r\n",
    "    correct = 0\r\n",
    "    with torch.no_grad():\r\n",
    "        for _, data in tqdm(enumerate(valid_loader), total=len(valid_loader)):\r\n",
    "            data, target = data['data'].to('cuda'), data['target'].to('cuda')\r\n",
    "            output = model(data)\r\n",
    "            valid_loss +=F.nll_loss(output, target, reduction='sum').item()\r\n",
    "\r\n",
    "            pred = output.argmax(dim=1, keepdim=True)\r\n",
    "            correct += pred.eq(target.view_as(pred)).sum().item()\r\n",
    "    print(\r\n",
    "            f\"Valid loss = {valid_loss * 1.0 / len(valid_loader.dataset)}, Valid Accuracy : {100.0 * correct / len(valid_loader.dataset)}\"\r\n",
    "        )\r\n",
    "\r\n",
    "for i in range(5):\r\n",
    "    print(f'EPOCH {i+1}')\r\n",
    "    train(model, train_loader, optimizer)\r\n",
    "    # evaluate(model, valid_loader)\r\n"
   ],
   "outputs": [
    {
     "output_type": "stream",
     "name": "stdout",
     "text": [
      "EPOCH 1\n"
     ]
    },
    {
     "output_type": "stream",
     "name": "stderr",
     "text": [
      "100%|██████████| 63/63 [00:00<00:00, 102.22it/s]\n"
     ]
    },
    {
     "output_type": "stream",
     "name": "stdout",
     "text": [
      "Training loss = 0.04228804260492325, Correctly Classified : 583 Training Accuracy : 58.3\n",
      "EPOCH 2\n"
     ]
    },
    {
     "output_type": "stream",
     "name": "stderr",
     "text": [
      "100%|██████████| 63/63 [00:00<00:00, 210.00it/s]\n"
     ]
    },
    {
     "output_type": "stream",
     "name": "stdout",
     "text": [
      "Training loss = 0.04261572286486626, Correctly Classified : 582 Training Accuracy : 58.2\n",
      "EPOCH 3\n"
     ]
    },
    {
     "output_type": "stream",
     "name": "stderr",
     "text": [
      "100%|██████████| 63/63 [00:00<00:00, 203.23it/s]\n"
     ]
    },
    {
     "output_type": "stream",
     "name": "stdout",
     "text": [
      "Training loss = 0.04311288893222809, Correctly Classified : 581 Training Accuracy : 58.1\n",
      "EPOCH 4\n"
     ]
    },
    {
     "output_type": "stream",
     "name": "stderr",
     "text": [
      "100%|██████████| 63/63 [00:00<00:00, 221.79it/s]\n"
     ]
    },
    {
     "output_type": "stream",
     "name": "stdout",
     "text": [
      "Training loss = 0.04284747317433357, Correctly Classified : 588 Training Accuracy : 58.8\n",
      "EPOCH 5\n"
     ]
    },
    {
     "output_type": "stream",
     "name": "stderr",
     "text": [
      "100%|██████████| 63/63 [00:00<00:00, 219.52it/s]\n"
     ]
    },
    {
     "output_type": "stream",
     "name": "stdout",
     "text": [
      "Training loss = 0.042755186557769775, Correctly Classified : 577 Training Accuracy : 57.7\n"
     ]
    }
   ],
   "metadata": {}
  },
  {
   "cell_type": "code",
   "execution_count": null,
   "source": [],
   "outputs": [],
   "metadata": {}
  }
 ],
 "metadata": {
  "orig_nbformat": 4,
  "language_info": {
   "name": "python",
   "version": "3.9.7",
   "mimetype": "text/x-python",
   "codemirror_mode": {
    "name": "ipython",
    "version": 3
   },
   "pygments_lexer": "ipython3",
   "nbconvert_exporter": "python",
   "file_extension": ".py"
  },
  "kernelspec": {
   "name": "python3",
   "display_name": "Python 3.9.7 64-bit ('base': conda)"
  },
  "interpreter": {
   "hash": "9131c53ea609b1c83a4930f9ef9b895156b0f40bc80fb8f9ee0bf5a21c6927cd"
  }
 },
 "nbformat": 4,
 "nbformat_minor": 2
}